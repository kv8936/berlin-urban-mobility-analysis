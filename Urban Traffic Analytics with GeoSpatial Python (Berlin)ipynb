{
 "cells": [
  {
   "cell_type": "code",
   "execution_count": 21,
   "id": "db3315c8-7198-4740-8771-84221cd76729",
   "metadata": {},
   "outputs": [],
   "source": [
    "import pandas as pd\n",
    "import geopandas as gpd\n",
    "from shapely.geometry import LineString\n",
    "import json\n",
    "import os"
   ]
  },
  {
   "cell_type": "code",
   "execution_count": 23,
   "id": "b8738ee0-8ce2-4502-9efe-b3f9b2dcc8a7",
   "metadata": {},
   "outputs": [],
   "source": [
    "# -----------------------------\n",
    "# 1. Load and Merge Traffic Data (Jan to June)\n",
    "# -----------------------------\n",
    "\n",
    "csv_files = [\n",
    "    \"bzm_telraam_2025_01.csv\",\n",
    "    \"bzm_telraam_2025_02.csv\",\n",
    "    \"bzm_telraam_2025_03.csv\",\n",
    "    \"bzm_telraam_2025_04.csv\",\n",
    "    \"bzm_telraam_2025_05.csv\",\n",
    "    \"bzm_telraam_2025_06.csv\",\n",
    "]\n",
    "\n",
    "# Load and merge\n",
    "dfs = [pd.read_csv(file) for file in csv_files]\n",
    "df_all = pd.concat(dfs, ignore_index=True)\n",
    "# Convert date column\n",
    "df_all[\"date_local\"] = pd.to_datetime(df_all[\"date_local\"], errors='coerce')\n"
   ]
  },
  {
   "cell_type": "code",
   "execution_count": 25,
   "id": "54209301-6002-4804-91f0-9084e9628f55",
   "metadata": {},
   "outputs": [],
   "source": [
    "# -----------------------------\n",
    "# 2. Aggregate traffic data by segment\n",
    "# -----------------------------\n",
    "agg_df = df_all.groupby(\"segment_id\")[[\"ped_total\", \"bike_total\", \"car_total\"]].mean().reset_index()\n",
    "agg_df.rename(columns={\n",
    "    \"ped_total\": \"avg_pedestrians\",\n",
    "    \"bike_total\": \"avg_bikes\",\n",
    "    \"car_total\": \"avg_cars\"\n",
    "}, inplace=True)\n",
    "\n"
   ]
  },
  {
   "cell_type": "code",
   "execution_count": 27,
   "id": "3e150098-a8c0-4af3-9945-87551c45f466",
   "metadata": {},
   "outputs": [],
   "source": [
    "# -----------------------------\n",
    "# 3. Load and Parse GeoJSON Safely\n",
    "# -----------------------------\n",
    "\n",
    "with open(\"bzm_telraam_segments.geojson\", \"r\", encoding=\"utf-8\") as f:\n",
    "    geojson_data = json.load(f)\n",
    "\n",
    "# Extract geometries using first line of each MultiLineString\n",
    "segment_ids = []\n",
    "geometry_list = []\n",
    "\n",
    "for feature in geojson_data[\"features\"]:\n",
    "    if feature[\"geometry\"][\"type\"] == \"MultiLineString\":\n",
    "        try:\n",
    "            coords = feature[\"geometry\"][\"coordinates\"][0]  # Take only first part\n",
    "            geom = LineString(coords)\n",
    "            geometry_list.append(geom)\n",
    "            segment_ids.append(feature[\"properties\"].get(\"segment_id\"))\n",
    "        except Exception:\n",
    "            continue\n",
    "# Create GeoDataFrame with segment_id and geometry\n",
    "geo_df = gpd.GeoDataFrame({\n",
    "    \"segment_id\": segment_ids,\n",
    "    \"geometry\": geometry_list\n",
    "}, crs=\"EPSG:4326\")\n",
    "\n"
   ]
  },
  {
   "cell_type": "code",
   "execution_count": 29,
   "id": "7565ba47-05f8-4da1-b3e1-a4c1341bc24a",
   "metadata": {},
   "outputs": [
    {
     "data": {
      "text/plain": [
       "<Axes: >"
      ]
     },
     "execution_count": 29,
     "metadata": {},
     "output_type": "execute_result"
    },
    {
     "data": {
      "image/png": "[encoded data removed]",
      "text/plain": [
       "<Figure size 1200x800 with 2 Axes>"
      ]
     },
     "metadata": {},
     "output_type": "display_data"
    }
   ],
   "source": [
    "\n",
    "# -----------------------------\n",
    "# 4. Merge Geometry with Aggregated Traffic\n",
    "# -----------------------------\n",
    "merged_gdf = geo_df.merge(agg_df, on=\"segment_id\")\n",
    "\n",
    "# -----------------------------\n",
    "# 5. Save or Visualize\n",
    "# -----------------------------\n",
    "\n",
    "# Save to GeoJSON or Shapefile\n",
    "merged_gdf.to_file(\"berlin_mobility_summary.geojson\", driver=\"GeoJSON\")\n",
    "\n",
    "# OR plot a quick map of average bikes\n",
    "merged_gdf.plot(column=\"avg_bikes\", cmap=\"viridis\", legend=True, figsize=(12, 8))\n"
   ]
  },
  {
   "cell_type": "code",
   "execution_count": 31,
   "id": "57d0eb22-19ba-47f9-9e20-8fdeb88b28eb",
   "metadata": {},
   "outputs": [],
   "source": [
    "merged_gdf.to_file(\"berlin_mobility_summary.geojson\", driver=\"GeoJSON\")"
   ]
  },
  {
   "cell_type": "code",
   "execution_count": 33,
   "id": "6599befe-43cf-46a9-80f9-97910311fa5f",
   "metadata": {},
   "outputs": [],
   "source": [
    "import folium\n",
    "\n",
    "# Create a Folium map centered on Berlin\n",
    "m = folium.Map(location=[52.52, 13.405], zoom_start=11)\n",
    "\n",
    "# Add your traffic segments as colored lines\n",
    "for _, row in merged_gdf.iterrows():\n",
    "    folium.GeoJson(row[\"geometry\"], \n",
    "                   tooltip=f\"Avg bikes: {row['avg_bikes']:.2f}\", \n",
    "                   style_function=lambda x: {\"color\": \"blue\", \"weight\": 2}).add_to(m)\n",
    "\n",
    "m.save(\"berlin_bike_traffic_map.html\")\n"
   ]
  },
  {
   "cell_type": "code",
   "execution_count": 41,
   "id": "f4d9022e-5f5e-42b2-9fd5-df1df45bd760",
   "metadata": {},
   "outputs": [
    {
     "data": {
      "text/html": [
       "\n",
       "        <iframe\n",
       "            width=\"100%\"\n",
       "            height=\"600\"\n",
       "            src=\"berlin_bike_traffic_map.html\"\n",
       "            frameborder=\"0\"\n",
       "            allowfullscreen\n",
       "            \n",
       "        ></iframe>\n",
       "        "
      ],
      "text/plain": [
       "<IPython.lib.display.IFrame at 0x16959db90>"
      ]
     },
     "metadata": {},
     "output_type": "display_data"
    }
   ],
   "source": [
    "import geopandas as gpd\n",
    "import folium\n",
    "from folium import GeoJsonTooltip\n",
    "from IPython.display import display, IFrame\n",
    "\n",
    "# Load the processed GeoJSON file\n",
    "gdf = gpd.read_file(\"berlin_mobility_summary.geojson\")\n",
    "\n",
    "# Reproject to WGS84 for mapping\n",
    "gdf = gdf.to_crs(epsg=4326)\n",
    "\n",
    "# Create a folium map centered on Berlin\n",
    "m = folium.Map(location=[52.52, 13.405], zoom_start=12, tiles=\"CartoDB Positron\")  # Light street-style map\n",
    "\n",
    "# Convert GeoDataFrame to GeoJSON format\n",
    "geojson_data = gdf.__geo_interface__\n",
    "\n",
    "# Add Choropleth layer for avg_bikes\n",
    "folium.Choropleth(\n",
    "    geo_data=geojson_data,\n",
    "    name='Average Bike Traffic',\n",
    "    data=gdf,\n",
    "    columns=['segment_id', 'avg_bikes'],\n",
    "    key_on='feature.properties.segment_id',\n",
    "    fill_color='YlGnBu',\n",
    "    fill_opacity=0.8,\n",
    "    line_opacity=0.3,\n",
    "    legend_name='Average Bikes (Jan–June 2025)',\n",
    ").add_to(m)\n",
    "\n",
    "# Add interactive tooltips\n",
    "tooltip = GeoJsonTooltip(\n",
    "    fields=[\"segment_id\", \"avg_bikes\", \"avg_pedestrians\", \"avg_cars\"],\n",
    "    aliases=[\"Segment ID:\", \"Avg Bikes:\", \"Avg Pedestrians:\", \"Avg Cars:\"],\n",
    "    localize=True,\n",
    "    sticky=True,\n",
    "    labels=True,\n",
    "    style=\"\"\"\n",
    "        background-color: #2c3e50;\n",
    "        color: white;\n",
    "        font-size: 12px;\n",
    "        padding: 8px;\n",
    "    \"\"\"\n",
    ")\n",
    "\n",
    "folium.GeoJson(\n",
    "    geojson_data,\n",
    "    tooltip=tooltip,\n",
    "    name=\"Traffic Segments\"\n",
    ").add_to(m)\n",
    "\n",
    "# Add Layer Control\n",
    "folium.LayerControl().add_to(m)\n",
    "\n",
    "# Save and display the map inline\n",
    "m.save(\"berlin_bike_traffic_map.html\")\n",
    "display(IFrame(\"berlin_bike_traffic_map.html\", width=\"100%\", height=600))\n"
   ]
  }
 ],
 "metadata": {
  "kernelspec": {
   "display_name": "Python 3 (ipykernel)",
   "language": "python",
   "name": "python3"
  },
  "language_info": {
   "codemirror_mode": {
    "name": "ipython",
    "version": 3
   },
   "file_extension": ".py",
   "mimetype": "text/x-python",
   "name": "python",
   "nbconvert_exporter": "python",
   "pygments_lexer": "ipython3",
   "version": "3.11.5"
  }
 },
 "nbformat": 4,
 "nbformat_minor": 5
}
